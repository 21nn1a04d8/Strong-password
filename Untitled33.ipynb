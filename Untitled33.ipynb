{
  "nbformat": 4,
  "nbformat_minor": 0,
  "metadata": {
    "colab": {
      "provenance": []
    },
    "kernelspec": {
      "name": "python3",
      "display_name": "Python 3"
    },
    "language_info": {
      "name": "python"
    }
  },
  "cells": [
    {
      "cell_type": "code",
      "source": [
        "spac_char_set = {'!', '@', '#', '$', '%'}\n",
        "\n",
        "def strong_password(password):\n",
        "    # Rule 1: Minimum length\n",
        "    if len(password) < 8:\n",
        "        return False\n",
        "\n",
        "    # Rule 2: No spaces allowed\n",
        "    if ' ' in password:\n",
        "        return False\n",
        "\n",
        "    # Rule 3: Should not start with digit or special character\n",
        "    if password[0].isdigit() or password[0] in spac_char_set:\n",
        "        return False\n",
        "\n",
        "    # Flags for character types\n",
        "    upper = False\n",
        "    lower = False\n",
        "    digit = False\n",
        "    special = False\n",
        "\n",
        "    for char in password:\n",
        "        if char.isupper():\n",
        "           upper = True\n",
        "        elif char.islower():\n",
        "            lower = True\n",
        "        elif char.isdigit():\n",
        "            digit = True\n",
        "        elif char in spac_char_set:\n",
        "            special = True\n",
        "\n",
        "    # Final check for all required character types\n",
        "    return upper and lower and digit and special\n",
        "\n",
        "# Example usage:\n",
        "password = input(\"Enter password: \")\n",
        "print(strong_password(password))"
      ],
      "metadata": {
        "colab": {
          "base_uri": "https://localhost:8080/"
        },
        "id": "NvbbqnIEvHIE",
        "outputId": "1f916feb-cd11-4280-bb37-68e395058fd5"
      },
      "execution_count": 7,
      "outputs": [
        {
          "output_type": "stream",
          "name": "stdout",
          "text": [
            "Enter password: Bhidwqw@14\n",
            "True\n"
          ]
        }
      ]
    }
  ]
}